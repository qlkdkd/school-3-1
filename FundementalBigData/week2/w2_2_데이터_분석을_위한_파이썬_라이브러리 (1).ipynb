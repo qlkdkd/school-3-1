{
 "cells": [
  {
   "cell_type": "markdown",
   "metadata": {},
   "source": [
    "### 1. 통계 분석을 위한 라이브러리\n",
    "* 여러 모듈을 체계적으로 모아 저장해 놓은 코드 묶음으로 패키지라고도 함\n",
    "* 주요 라이브러리로 Numpy, Pandas, Scipy, Sclkit-Learn, Matplotlib 등이 있음\n",
    "* 폴더(Directory) 구조로 되어 있어 파이썬 모듈을 계층적으로 관리할 수 있음\n",
    "\n",
    "### 2. 라이브러리 사용하기\n",
    "* 라이브러리를 사용하기 위해서는 라이브러리를 불러와야 함\n",
    "```python\n",
    "#1. 라이브러리 전체를 불러오는 방법\n",
    "import 라이브러리명 [as 변경할 명칭]\n",
    "\n",
    "#2. 라이브러리의 특정 모듈을 불러오는 방법\n",
    "from 라이브러리명[서브 라이브러리명] import 모듈명[as 변경할 명칭]\n",
    "#또는\n",
    "import 라이브러리명[.서브 라이브러리명].모듈명 [as 변경할 명칭]\n",
    "\n",
    "#3. 라이브러리의 특정 함수를 불러오는 방법\n",
    "from 라이브러리명[.서브 라이브러리명][.모듈명] import 클래스명/변수명/함수명 [as 변경할 명칭]\n",
    "```"
   ]
  },
  {
   "cell_type": "markdown",
   "metadata": {},
   "source": [
    "### 3. Numpy\n",
    "* 파이썬에서 데이터 연산을 쉽고 빠르게 할 수 있도록 다차원 배열 데이터를 효과적으로 처리할 수 있는 라이브러리\n",
    "* 기존의 파이썬 내장 함수를 이용하는 것보다 효과적으로 데이터 연산을 처리할 수 있도록 지원함\n",
    "* 데이터를 배열(Array)단위로 관리하며,튜플 자료형을 이용하여 배열의 구조를 표현하는 데 이를 Shape라고 함."
   ]
  },
  {
   "cell_type": "markdown",
   "metadata": {},
   "source": [
    "#### 배열 생성하기"
   ]
  },
  {
   "cell_type": "code",
   "execution_count": 2,
   "metadata": {},
   "outputs": [
    {
     "data": {
      "text/plain": [
       "array([0, 1, 2, 3, 4, 5])"
      ]
     },
     "execution_count": 2,
     "metadata": {},
     "output_type": "execute_result"
    }
   ],
   "source": [
    "import numpy as np\n",
    "\n",
    "data1=[0, 1, 2, 3, 4, 5]\n",
    "a1=np.array(data1)\n",
    "a1"
   ]
  },
  {
   "cell_type": "code",
   "execution_count": 3,
   "metadata": {},
   "outputs": [
    {
     "name": "stdout",
     "output_type": "stream",
     "text": [
      "[1 3 5 7 9]\n",
      "[0 1 2 3 4 5 6 7 8 9]\n"
     ]
    }
   ],
   "source": [
    "a1=np.arange(start=1, stop=10, step=2)#1부터 10까지 범위 안에서 간격 2를 갖는 배열 생성\n",
    "print(a1)\n",
    "\n",
    "a2=np.arange(10)#0부터 10까지 범위 안에서 간격 1을 갖는 배열 생성\n",
    "print(a2)"
   ]
  },
  {
   "cell_type": "markdown",
   "metadata": {},
   "source": [
    "#### 배열 연산하기"
   ]
  },
  {
   "cell_type": "code",
   "execution_count": 4,
   "metadata": {},
   "outputs": [
    {
     "name": "stdout",
     "output_type": "stream",
     "text": [
      "덧셈: [11 16 32 33]\n",
      "뺄셈: [ 9 14 28 27]\n",
      "곱셈: [10 15 60 90]\n",
      "나눗셈: [10. 15. 15. 10.]\n"
     ]
    }
   ],
   "source": [
    "arr1=np.array([10, 15, 30, 30])\n",
    "arr2=np.array([1, 1, 2, 3])\n",
    "print(f'덧셈: {arr1+arr2}')\n",
    "print(f'뺄셈: {arr1-arr2}')\n",
    "print(f'곱셈: {arr1*arr2}')\n",
    "print(f'나눗셈: {arr1/arr2}')"
   ]
  },
  {
   "cell_type": "markdown",
   "metadata": {},
   "source": [
    "#### 배열의 인덱싱"
   ]
  },
  {
   "cell_type": "code",
   "execution_count": 7,
   "metadata": {},
   "outputs": [
    {
     "name": "stdout",
     "output_type": "stream",
     "text": [
      "40\n",
      "[ 0 10 20 30 40 70]\n"
     ]
    },
    {
     "data": {
      "text/plain": [
       "array([10, 30, 40])"
      ]
     },
     "execution_count": 7,
     "metadata": {},
     "output_type": "execute_result"
    }
   ],
   "source": [
    "a1=np.array([0, 10, 20, 30, 40, 50])\n",
    "print(a1[4])#배열 a1의 4번째 인덱스 출력\n",
    "\n",
    "a1[5]=70\n",
    "print(a1)#a1의 5번째 인덱스를 70으로 변경\n",
    "\n",
    "a1[[1, 3, 4]]#a1의 1번, 3번, 4번째 인덱스 출력"
   ]
  },
  {
   "cell_type": "markdown",
   "metadata": {},
   "source": [
    "#### 배열의 슬라이싱\n",
    "* 슬라이싱: 범위를 지정해서 배열의 원소를 선택하는 것"
   ]
  },
  {
   "cell_type": "code",
   "execution_count": 8,
   "metadata": {},
   "outputs": [
    {
     "name": "stdout",
     "output_type": "stream",
     "text": [
      "[1 2 3]\n",
      "[2 3 4 5]\n",
      "[ 0  1 25 35 45  5]\n"
     ]
    }
   ],
   "source": [
    "b1=np.array([0, 1, 2, 3, 4, 5])\n",
    "print(b1[1:4])#1번째 인덱스부터 4번째 인덱스 전까지 출력\n",
    "print(b1[2:])#2번째 인덱스부터 출력\n",
    "\n",
    "b1[2:5]=np.array([25, 35, 45])#2번째 인덱스부터 5번째 인덱스 전까지의 값을 변경\n",
    "print(b1)#"
   ]
  },
  {
   "cell_type": "markdown",
   "metadata": {},
   "source": [
    "#### 배열의 차원 변경하기\n",
    "* 실제 데이터 분석에서는 2차원 배열, 즉 행렬 형태의 데이터를 다루는 경우가 많음"
   ]
  },
  {
   "cell_type": "code",
   "execution_count": 9,
   "metadata": {},
   "outputs": [
    {
     "data": {
      "text/plain": [
       "array([[0, 1, 2, 3, 4],\n",
       "       [5, 6, 7, 8, 9]])"
      ]
     },
     "execution_count": 9,
     "metadata": {},
     "output_type": "execute_result"
    }
   ],
   "source": [
    "Vector=np.arange(10)#Vector=[0, 1, 2, 3, 4, 5, 6, 7, 8, 9]\n",
    "Matrix=Vector.reshape(2, 5)#Vector을 2*5행렬로 변환\n",
    "Matrix"
   ]
  },
  {
   "cell_type": "code",
   "execution_count": 10,
   "metadata": {},
   "outputs": [
    {
     "data": {
      "text/plain": [
       "array([[0, 1, 2, 3, 4],\n",
       "       [5, 6, 7, 8, 9]])"
      ]
     },
     "execution_count": 10,
     "metadata": {},
     "output_type": "execute_result"
    }
   ],
   "source": [
    "Vector=np.arange(10)\n",
    "Matrix=Vector.reshape(-1, 5)# reshape함수의 행 인자를 -1로 지정하면 열 인자로 지정한 원소 수로 자동으로 행의 수가 결정됨\n",
    "Matrix"
   ]
  },
  {
   "attachments": {
    "image.png": {
     "image/png": "[encoded data removed]"
    }
   },
   "cell_type": "markdown",
   "metadata": {},
   "source": [
    "### 4. Pandas\n",
    "* 구조화된 데이터를 빠르고 쉽게 다양한 형식으로 가공할 수 있는 자료구조와 함수를 제공하여 데이터를 재배치하거나 집계, 부분집합 등을 자유롭게 처리할 수 있는 라이브러리\n",
    "* Numpy를 기반으로 만들어졌으나, Numpy와 달리 데이터프레임(DataFrame) 형식의 자료구조 분석에 더욱 특화되어 있으며 이외의 다양한 데이터 타입이 섞여있을 때도 처리가 가능함\n",
    "* Pandas에서 다루는 자료구조는 크게 1차원 구조인 Series와 2차원 구조인 DataFrame이 있음\n",
    "\n",
    "![image.png](attachment:image.png)"
   ]
  },
  {
   "cell_type": "markdown",
   "metadata": {},
   "source": [
    "#### Series 생성\n",
    "* 출력값 왼쪽: 인덱스, 오른쪽: 값"
   ]
  },
  {
   "cell_type": "code",
   "execution_count": 11,
   "metadata": {},
   "outputs": [
    {
     "data": {
      "text/plain": [
       "0    1\n",
       "1    2\n",
       "2    3\n",
       "3    4\n",
       "4    5\n",
       "dtype: int64"
      ]
     },
     "execution_count": 11,
     "metadata": {},
     "output_type": "execute_result"
    }
   ],
   "source": [
    "import pandas as pd\n",
    "\n",
    "series=pd.Series([1, 2, 3, 4, 5])\n",
    "series"
   ]
  },
  {
   "cell_type": "markdown",
   "metadata": {},
   "source": [
    "#### DataFrame 생성"
   ]
  },
  {
   "cell_type": "code",
   "execution_count": 12,
   "metadata": {},
   "outputs": [
    {
     "data": {
      "text/html": [
       "<div>\n",
       "<style scoped>\n",
       "    .dataframe tbody tr th:only-of-type {\n",
       "        vertical-align: middle;\n",
       "    }\n",
       "\n",
       "    .dataframe tbody tr th {\n",
       "        vertical-align: top;\n",
       "    }\n",
       "\n",
       "    .dataframe thead th {\n",
       "        text-align: right;\n",
       "    }\n",
       "</style>\n",
       "<table border=\"1\" class=\"dataframe\">\n",
       "  <thead>\n",
       "    <tr style=\"text-align: right;\">\n",
       "      <th></th>\n",
       "      <th>고객이름</th>\n",
       "      <th>나이</th>\n",
       "      <th>등급</th>\n",
       "    </tr>\n",
       "  </thead>\n",
       "  <tbody>\n",
       "    <tr>\n",
       "      <th>0</th>\n",
       "      <td>원종호</td>\n",
       "      <td>26</td>\n",
       "      <td>silver</td>\n",
       "    </tr>\n",
       "    <tr>\n",
       "      <th>1</th>\n",
       "      <td>김수현</td>\n",
       "      <td>23</td>\n",
       "      <td>gold</td>\n",
       "    </tr>\n",
       "    <tr>\n",
       "      <th>2</th>\n",
       "      <td>김진표</td>\n",
       "      <td>30</td>\n",
       "      <td>vip</td>\n",
       "    </tr>\n",
       "  </tbody>\n",
       "</table>\n",
       "</div>"
      ],
      "text/plain": [
       "  고객이름  나이      등급\n",
       "0  원종호  26  silver\n",
       "1  김수현  23    gold\n",
       "2  김진표  30     vip"
      ]
     },
     "execution_count": 12,
     "metadata": {},
     "output_type": "execute_result"
    }
   ],
   "source": [
    "#리스트를 활용한 데이터프레임 생성\n",
    "columns_list=['고객이름', '나이', '등급']\n",
    "value_list=[['원종호', 26, 'silver'], ['김수현', 23, 'gold'], ['김진표', 30, 'vip']]\n",
    "pd.DataFrame(data=value_list, columns=columns_list)\n",
    "\n",
    "#딕셔너리를 활용한 데이터프레임 생성\n",
    "dict={'고객이름':['원종호', '김수현', '김진표'], '나이':[26, 23, 30], '등급':['silver', 'gold', 'vip']}\n",
    "pd.DataFrame(data=dict)"
   ]
  },
  {
   "cell_type": "markdown",
   "metadata": {},
   "source": [
    "#### Pandas를 이용한 기초통계"
   ]
  },
  {
   "cell_type": "code",
   "execution_count": 16,
   "metadata": {},
   "outputs": [
    {
     "data": {
      "text/html": [
       "<div>\n",
       "<style scoped>\n",
       "    .dataframe tbody tr th:only-of-type {\n",
       "        vertical-align: middle;\n",
       "    }\n",
       "\n",
       "    .dataframe tbody tr th {\n",
       "        vertical-align: top;\n",
       "    }\n",
       "\n",
       "    .dataframe thead th {\n",
       "        text-align: right;\n",
       "    }\n",
       "</style>\n",
       "<table border=\"1\" class=\"dataframe\">\n",
       "  <thead>\n",
       "    <tr style=\"text-align: right;\">\n",
       "      <th></th>\n",
       "      <th>화장품</th>\n",
       "      <th>의류</th>\n",
       "      <th>식음료</th>\n",
       "      <th>전자제품</th>\n",
       "    </tr>\n",
       "  </thead>\n",
       "  <tbody>\n",
       "    <tr>\n",
       "      <th>2014</th>\n",
       "      <td>300</td>\n",
       "      <td>773</td>\n",
       "      <td>362</td>\n",
       "      <td>458</td>\n",
       "    </tr>\n",
       "    <tr>\n",
       "      <th>2015</th>\n",
       "      <td>274</td>\n",
       "      <td>657</td>\n",
       "      <td>131</td>\n",
       "      <td>667</td>\n",
       "    </tr>\n",
       "    <tr>\n",
       "      <th>2016</th>\n",
       "      <td>150</td>\n",
       "      <td>699</td>\n",
       "      <td>593</td>\n",
       "      <td>123</td>\n",
       "    </tr>\n",
       "    <tr>\n",
       "      <th>2017</th>\n",
       "      <td>524</td>\n",
       "      <td>324</td>\n",
       "      <td>348</td>\n",
       "      <td>521</td>\n",
       "    </tr>\n",
       "    <tr>\n",
       "      <th>2018</th>\n",
       "      <td>211</td>\n",
       "      <td>487</td>\n",
       "      <td>98</td>\n",
       "      <td>662</td>\n",
       "    </tr>\n",
       "  </tbody>\n",
       "</table>\n",
       "</div>"
      ],
      "text/plain": [
       "      화장품   의류  식음료  전자제품\n",
       "2014  300  773  362   458\n",
       "2015  274  657  131   667\n",
       "2016  150  699  593   123\n",
       "2017  524  324  348   521\n",
       "2018  211  487   98   662"
      ]
     },
     "execution_count": 16,
     "metadata": {},
     "output_type": "execute_result"
    }
   ],
   "source": [
    "sales_data = {'화장품': [300, 274, 150, 524, 211],\n",
    "'의류': [773, 657, 699, 324, 487],\n",
    "'식음료': [362, 131, 593, 348, 98],\n",
    "'전자제품': [458, 667, 123, 521, 662]}\n",
    "columns_list = ['화장품', '의류', '식음료', '전자제품']\n",
    "index_list = ['2014', '2015', '2016', '2017', '2018']\n",
    "df_store = pd.DataFrame(data = sales_data, columns = columns_list, index = index_list)\n",
    "df_store"
   ]
  },
  {
   "cell_type": "code",
   "execution_count": 18,
   "metadata": {},
   "outputs": [
    {
     "name": "stdout",
     "output_type": "stream",
     "text": [
      "평균: \n",
      "화장품     291.8\n",
      "의류      588.0\n",
      "식음료     306.4\n",
      "전자제품    486.2\n",
      "dtype: float64\n",
      "\n",
      "표준편차: \n",
      "화장품     142.246968\n",
      "의류      181.110464\n",
      "식음료     200.721947\n",
      "전자제품    222.213186\n",
      "dtype: float64\n",
      "\n"
     ]
    }
   ],
   "source": [
    "#  평균 출력\n",
    "print(\"평균: \")\n",
    "print(df_store.mean())\n",
    "print()\n",
    "#표준편차 출력\n",
    "print(\"표준편차: \")\n",
    "print(df_store.std())\n",
    "print()"
   ]
  },
  {
   "cell_type": "code",
   "execution_count": 21,
   "metadata": {},
   "outputs": [
    {
     "name": "stdout",
     "output_type": "stream",
     "text": [
      "연도별 판매량: \n",
      "2014    473.25\n",
      "2015    432.25\n",
      "2016    391.25\n",
      "2017    429.25\n",
      "2018    364.50\n",
      "dtype: float64\n",
      "\n"
     ]
    },
    {
     "data": {
      "text/html": [
       "<div>\n",
       "<style scoped>\n",
       "    .dataframe tbody tr th:only-of-type {\n",
       "        vertical-align: middle;\n",
       "    }\n",
       "\n",
       "    .dataframe tbody tr th {\n",
       "        vertical-align: top;\n",
       "    }\n",
       "\n",
       "    .dataframe thead th {\n",
       "        text-align: right;\n",
       "    }\n",
       "</style>\n",
       "<table border=\"1\" class=\"dataframe\">\n",
       "  <thead>\n",
       "    <tr style=\"text-align: right;\">\n",
       "      <th></th>\n",
       "      <th>화장품</th>\n",
       "      <th>의류</th>\n",
       "      <th>식음료</th>\n",
       "      <th>전자제품</th>\n",
       "    </tr>\n",
       "  </thead>\n",
       "  <tbody>\n",
       "    <tr>\n",
       "      <th>count</th>\n",
       "      <td>5.000000</td>\n",
       "      <td>5.000000</td>\n",
       "      <td>5.000000</td>\n",
       "      <td>5.000000</td>\n",
       "    </tr>\n",
       "    <tr>\n",
       "      <th>mean</th>\n",
       "      <td>291.800000</td>\n",
       "      <td>588.000000</td>\n",
       "      <td>306.400000</td>\n",
       "      <td>486.200000</td>\n",
       "    </tr>\n",
       "    <tr>\n",
       "      <th>std</th>\n",
       "      <td>142.246968</td>\n",
       "      <td>181.110464</td>\n",
       "      <td>200.721947</td>\n",
       "      <td>222.213186</td>\n",
       "    </tr>\n",
       "    <tr>\n",
       "      <th>min</th>\n",
       "      <td>150.000000</td>\n",
       "      <td>324.000000</td>\n",
       "      <td>98.000000</td>\n",
       "      <td>123.000000</td>\n",
       "    </tr>\n",
       "    <tr>\n",
       "      <th>25%</th>\n",
       "      <td>211.000000</td>\n",
       "      <td>487.000000</td>\n",
       "      <td>131.000000</td>\n",
       "      <td>458.000000</td>\n",
       "    </tr>\n",
       "    <tr>\n",
       "      <th>50%</th>\n",
       "      <td>274.000000</td>\n",
       "      <td>657.000000</td>\n",
       "      <td>348.000000</td>\n",
       "      <td>521.000000</td>\n",
       "    </tr>\n",
       "    <tr>\n",
       "      <th>75%</th>\n",
       "      <td>300.000000</td>\n",
       "      <td>699.000000</td>\n",
       "      <td>362.000000</td>\n",
       "      <td>662.000000</td>\n",
       "    </tr>\n",
       "    <tr>\n",
       "      <th>max</th>\n",
       "      <td>524.000000</td>\n",
       "      <td>773.000000</td>\n",
       "      <td>593.000000</td>\n",
       "      <td>667.000000</td>\n",
       "    </tr>\n",
       "  </tbody>\n",
       "</table>\n",
       "</div>"
      ],
      "text/plain": [
       "              화장품          의류         식음료        전자제품\n",
       "count    5.000000    5.000000    5.000000    5.000000\n",
       "mean   291.800000  588.000000  306.400000  486.200000\n",
       "std    142.246968  181.110464  200.721947  222.213186\n",
       "min    150.000000  324.000000   98.000000  123.000000\n",
       "25%    211.000000  487.000000  131.000000  458.000000\n",
       "50%    274.000000  657.000000  348.000000  521.000000\n",
       "75%    300.000000  699.000000  362.000000  662.000000\n",
       "max    524.000000  773.000000  593.000000  667.000000"
      ]
     },
     "execution_count": 21,
     "metadata": {},
     "output_type": "execute_result"
    }
   ],
   "source": [
    "#연도별 판매량 평균 구하기\n",
    "print(f'연도별 판매량: \\n{(df_store.mean(axis=1))}')\n",
    "print()\n",
    "#기초통계량 출력하기\n",
    "df_store.describe()\n"
   ]
  },
  {
   "cell_type": "markdown",
   "metadata": {},
   "source": [
    "#### DataFrame에서 원하는 데이터 추출"
   ]
  },
  {
   "cell_type": "code",
   "execution_count": 22,
   "metadata": {},
   "outputs": [
    {
     "data": {
      "text/html": [
       "<div>\n",
       "<style scoped>\n",
       "    .dataframe tbody tr th:only-of-type {\n",
       "        vertical-align: middle;\n",
       "    }\n",
       "\n",
       "    .dataframe tbody tr th {\n",
       "        vertical-align: top;\n",
       "    }\n",
       "\n",
       "    .dataframe thead th {\n",
       "        text-align: right;\n",
       "    }\n",
       "</style>\n",
       "<table border=\"1\" class=\"dataframe\">\n",
       "  <thead>\n",
       "    <tr style=\"text-align: right;\">\n",
       "      <th></th>\n",
       "      <th>명동점</th>\n",
       "      <th>분당점</th>\n",
       "      <th>송도점</th>\n",
       "      <th>부산점</th>\n",
       "      <th>광주점</th>\n",
       "    </tr>\n",
       "  </thead>\n",
       "  <tbody>\n",
       "    <tr>\n",
       "      <th>2011</th>\n",
       "      <td>59060</td>\n",
       "      <td>9312</td>\n",
       "      <td>NaN</td>\n",
       "      <td>14211</td>\n",
       "      <td>2627</td>\n",
       "    </tr>\n",
       "    <tr>\n",
       "      <th>2012</th>\n",
       "      <td>49296</td>\n",
       "      <td>1267</td>\n",
       "      <td>NaN</td>\n",
       "      <td>11071</td>\n",
       "      <td>4145</td>\n",
       "    </tr>\n",
       "    <tr>\n",
       "      <th>2013</th>\n",
       "      <td>62015</td>\n",
       "      <td>6893</td>\n",
       "      <td>9912.0</td>\n",
       "      <td>11234</td>\n",
       "      <td>4088</td>\n",
       "    </tr>\n",
       "    <tr>\n",
       "      <th>2014</th>\n",
       "      <td>48621</td>\n",
       "      <td>7226</td>\n",
       "      <td>9224.0</td>\n",
       "      <td>15424</td>\n",
       "      <td>4321</td>\n",
       "    </tr>\n",
       "    <tr>\n",
       "      <th>2015</th>\n",
       "      <td>46712</td>\n",
       "      <td>8878</td>\n",
       "      <td>8395.0</td>\n",
       "      <td>12146</td>\n",
       "      <td>4679</td>\n",
       "    </tr>\n",
       "    <tr>\n",
       "      <th>2016</th>\n",
       "      <td>31216</td>\n",
       "      <td>13622</td>\n",
       "      <td>9786.0</td>\n",
       "      <td>39415</td>\n",
       "      <td>4994</td>\n",
       "    </tr>\n",
       "    <tr>\n",
       "      <th>2017</th>\n",
       "      <td>38467</td>\n",
       "      <td>18228</td>\n",
       "      <td>9667.0</td>\n",
       "      <td>57866</td>\n",
       "      <td>5544</td>\n",
       "    </tr>\n",
       "  </tbody>\n",
       "</table>\n",
       "</div>"
      ],
      "text/plain": [
       "        명동점    분당점     송도점    부산점   광주점\n",
       "2011  59060   9312     NaN  14211  2627\n",
       "2012  49296   1267     NaN  11071  4145\n",
       "2013  62015   6893  9912.0  11234  4088\n",
       "2014  48621   7226  9224.0  15424  4321\n",
       "2015  46712   8878  8395.0  12146  4679\n",
       "2016  31216  13622  9786.0  39415  4994\n",
       "2017  38467  18228  9667.0  57866  5544"
      ]
     },
     "execution_count": 22,
     "metadata": {},
     "output_type": "execute_result"
    }
   ],
   "source": [
    "dep_data = {'명동점': [59060, 49296, 62015, 48621, 46712, 31216,\n",
    "38467],\n",
    "'분당점': [9312, 1267, 6893, 7226, 8878, 13622, 18228],\n",
    "'광주점': [2627, 4145, 4088, 4321, 4679, 4994, 5544],\n",
    "'부산점': [14211, 11071, 11234, 15424, 12146, 39415,\n",
    "57866],\n",
    "'송도점': [np.nan,np.nan, 9912, 9224, 8395, 9786, 9667]}\n",
    "col_list = ['명동점','분당점','송도점','부산점','광주점']\n",
    "index_list = ['2011', '2012', '2013', '2014', '2015', '2016', '2017']\n",
    "df_store = pd.DataFrame(dep_data, columns = col_list, index =\n",
    "index_list)\n",
    "df_store\n"
   ]
  },
  {
   "cell_type": "code",
   "execution_count": 23,
   "metadata": {},
   "outputs": [
    {
     "data": {
      "text/html": [
       "<div>\n",
       "<style scoped>\n",
       "    .dataframe tbody tr th:only-of-type {\n",
       "        vertical-align: middle;\n",
       "    }\n",
       "\n",
       "    .dataframe tbody tr th {\n",
       "        vertical-align: top;\n",
       "    }\n",
       "\n",
       "    .dataframe thead th {\n",
       "        text-align: right;\n",
       "    }\n",
       "</style>\n",
       "<table border=\"1\" class=\"dataframe\">\n",
       "  <thead>\n",
       "    <tr style=\"text-align: right;\">\n",
       "      <th></th>\n",
       "      <th>명동점</th>\n",
       "      <th>분당점</th>\n",
       "      <th>송도점</th>\n",
       "      <th>부산점</th>\n",
       "      <th>광주점</th>\n",
       "    </tr>\n",
       "  </thead>\n",
       "  <tbody>\n",
       "    <tr>\n",
       "      <th>2011</th>\n",
       "      <td>59060</td>\n",
       "      <td>9312</td>\n",
       "      <td>NaN</td>\n",
       "      <td>14211</td>\n",
       "      <td>2627</td>\n",
       "    </tr>\n",
       "    <tr>\n",
       "      <th>2012</th>\n",
       "      <td>49296</td>\n",
       "      <td>1267</td>\n",
       "      <td>NaN</td>\n",
       "      <td>11071</td>\n",
       "      <td>4145</td>\n",
       "    </tr>\n",
       "  </tbody>\n",
       "</table>\n",
       "</div>"
      ],
      "text/plain": [
       "        명동점   분당점  송도점    부산점   광주점\n",
       "2011  59060  9312  NaN  14211  2627\n",
       "2012  49296  1267  NaN  11071  4145"
      ]
     },
     "execution_count": 23,
     "metadata": {},
     "output_type": "execute_result"
    }
   ],
   "source": [
    "df_store[0:2]"
   ]
  },
  {
   "cell_type": "code",
   "execution_count": 24,
   "metadata": {},
   "outputs": [
    {
     "data": {
      "text/plain": [
       "명동점    31216.0\n",
       "분당점    13622.0\n",
       "송도점     9786.0\n",
       "부산점    39415.0\n",
       "광주점     4994.0\n",
       "Name: 2016, dtype: float64"
      ]
     },
     "execution_count": 24,
     "metadata": {},
     "output_type": "execute_result"
    }
   ],
   "source": [
    "df_store.loc['2016']"
   ]
  },
  {
   "cell_type": "code",
   "execution_count": 25,
   "metadata": {},
   "outputs": [
    {
     "data": {
      "text/plain": [
       "2011    59060\n",
       "2012    49296\n",
       "2013    62015\n",
       "2014    48621\n",
       "2015    46712\n",
       "2016    31216\n",
       "2017    38467\n",
       "Name: 명동점, dtype: int64"
      ]
     },
     "execution_count": 25,
     "metadata": {},
     "output_type": "execute_result"
    }
   ],
   "source": [
    "df_store['명동점']"
   ]
  },
  {
   "cell_type": "code",
   "execution_count": 26,
   "metadata": {},
   "outputs": [
    {
     "data": {
      "text/plain": [
       "2013    62015\n",
       "2014    48621\n",
       "2015    46712\n",
       "Name: 명동점, dtype: int64"
      ]
     },
     "execution_count": 26,
     "metadata": {},
     "output_type": "execute_result"
    }
   ],
   "source": [
    "df_store['명동점']['2013':'2015']"
   ]
  }
 ],
 "metadata": {
  "kernelspec": {
   "display_name": "base",
   "language": "python",
   "name": "python3"
  },
  "language_info": {
   "codemirror_mode": {
    "name": "ipython",
    "version": 3
   },
   "file_extension": ".py",
   "mimetype": "text/x-python",
   "name": "python",
   "nbconvert_exporter": "python",
   "pygments_lexer": "ipython3",
   "version": "3.11.5"
  }
 },
 "nbformat": 4,
 "nbformat_minor": 2
}
