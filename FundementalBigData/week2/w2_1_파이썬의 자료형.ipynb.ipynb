{
 "cells": [
  {
   "cell_type": "markdown",
   "metadata": {},
   "source": [
    "## 1. 파이썬 자료의 종류\n",
    "### 숫자형\n",
    "* 숫자 형태로 구성된 자료형\n",
    "* 정수, 실수를 주로 사용\n",
    "* 예: a=12, a=1.45\n",
    "\n",
    "### 문자형\n",
    "* 따옴표로 둘러 싸인 문자의 집합\n",
    "* 문자열을 표시하기 위해서는 시작과 끝에 큰따옴표(\")나 작은따옴표(')를 지정\n",
    "\n",
    "### 리스트\n",
    "* 여러개의 데이터를 묶어 순차적으로 저장하는 집합적 자료형\n",
    "* 리스트는 대괄호 \\[\\]를 사용하며, 리스트 내 값들은 변경 가능\n",
    "* 각 값에 대해 인덱스가 부여되며 인덱스의 범위는 0~n-1\n",
    "* 예: `a=[1, 2]`이면, 리스트 a에서 1의 인덱스는 0, 2의 인덱스는 1\n",
    "* 예: `a=[1, 2]`, `a[1]=2`\n",
    "\n",
    "### 튜플\n",
    "* 여러 개의 데이터를 하나로 묶는 데 이용, 튜플의 속성은 리스트와 유사\n",
    "* 각 값에 인덱스가 부여됨\n",
    "* 소괄호()사용 or 괄호 사용하지 않고 데이터 입력\n",
    "* 튜플 데이터는 한 번 입력(or 생성)하면 그 이후에는 항목을 변경 불가\n",
    "* 예: a=(1, 2), a=1, 2\n",
    "\n",
    "### 딕셔너리\n",
    "* 키(key)와 값(value)으로 이루어져 있으며 키를 이용하여 값을 저장 및 조회하는 자료형\n",
    "* 저장된 각 자료에 대한 순서는 의미 없음\n",
    "* 키와 값은 콜론(:)으로 구분\n",
    "* 중괄호{} 사용\n",
    "* 콤마(,)를 기준으로 아이템 구분\n",
    "* 기본구조={key(숫자와 문자열 가능):value(다양한 데이터 타입)}\n",
    "* 예: `{'국가':'한국', '도시':'서울', '나이':'28'}"
   ]
  },
  {
   "cell_type": "code",
   "execution_count": 2,
   "metadata": {},
   "outputs": [
    {
     "name": "stdout",
     "output_type": "stream",
     "text": [
      "<class 'int'> <class 'str'> <class 'list'> <class 'tuple'> <class 'dict'>\n"
     ]
    }
   ],
   "source": [
    "#숫자형\n",
    "a=12\n",
    "\n",
    "#문자형\n",
    "b='abc'\n",
    "\n",
    "#리스트\n",
    "List=['a', 'b', 'c', 'd']\n",
    "\n",
    "#튜플\n",
    "Tuple=(1, 2, 3, 4)\n",
    "\n",
    "#딕셔너리\n",
    "Dic={'경기도':'일산', '강원도':'원주', '충청도':'천안', '전라도':'전주'}\n",
    "print(type(a), type(b),type(List), type(Tuple), type(Dic))"
   ]
  },
  {
   "cell_type": "markdown",
   "metadata": {},
   "source": [
    "## 2. 파이썬 제어문\n",
    "* 조건에 따라 코드의 실행을 통제하기 위해 사용하는 기능\n",
    "* for반복문, if조건문, while조건문 등이 있음\n",
    "* 제어문을 효율적으로 만들기 위해 비교 연산자나 논리 연산자가 사용됨.\n",
    "\n",
    "### if문\n",
    "* 특정 상황이 생겼을 때 조건을 판단하여 이에 맞는 작업을 수행하는 조건문\n",
    "```python\n",
    "if 조건문:\n",
    "    수행할 코드 A\n",
    "else:\n",
    "    수행할 코드 B\n",
    "```"
   ]
  },
  {
   "cell_type": "code",
   "execution_count": 3,
   "metadata": {},
   "outputs": [
    {
     "name": "stdout",
     "output_type": "stream",
     "text": [
      "member\n"
     ]
    }
   ],
   "source": [
    "point=20\n",
    "if point>=60:\n",
    "    print('vip')\n",
    "else:\n",
    "    print('member')"
   ]
  },
  {
   "cell_type": "markdown",
   "metadata": {},
   "source": [
    "### while문\n",
    "* 튜플, 문자열 등의 자료형의 요소들이 차례대로 변수에 대입되어 수행할 코드들이 반복적으로 수행되는 반복문\n",
    "```python\n",
    "for 반복 변수 in 반복 범위:\n",
    "    수행할 코드\n",
    "```"
   ]
  },
  {
   "cell_type": "code",
   "execution_count": 4,
   "metadata": {},
   "outputs": [
    {
     "name": "stdout",
     "output_type": "stream",
     "text": [
      "1\n",
      "2\n",
      "3\n",
      "4\n",
      "5\n"
     ]
    }
   ],
   "source": [
    "for a in [1, 2, 3, 4, 5]:\n",
    "    print(a)"
   ]
  },
  {
   "cell_type": "code",
   "execution_count": 5,
   "metadata": {},
   "outputs": [
    {
     "name": "stdout",
     "output_type": "stream",
     "text": [
      "1\n",
      "3\n",
      "5\n",
      "7\n",
      "9\n"
     ]
    }
   ],
   "source": [
    "for b in range(1, 10, 2):\n",
    "    print(b)"
   ]
  },
  {
   "cell_type": "markdown",
   "metadata": {},
   "source": [
    "### while문\n",
    "* 튜플, 문자열 등의 자료형의 요소들이 차례대로 변수에 대입되어 수행할 코드들이 반복적으로 수행되는 반복문\n",
    "```python\n",
    "while 조건문:\n",
    "    수행할 코드\n",
    "```"
   ]
  },
  {
   "cell_type": "code",
   "execution_count": 6,
   "metadata": {},
   "outputs": [
    {
     "name": "stdout",
     "output_type": "stream",
     "text": [
      "customer_count sum\n",
      "1 1\n",
      "2 3\n",
      "3 6\n",
      "4 10\n",
      "5 15\n",
      "6 21\n"
     ]
    }
   ],
   "source": [
    "#1. 초기화\n",
    "customer_count=0\n",
    "sum1=0\n",
    "\n",
    "print(\"customer_count sum\")\n",
    "\n",
    "#2. 조건 검사\n",
    "while(sum1<20):\n",
    "    customer_count=customer_count+1\n",
    "    sum1=sum1+customer_count\n",
    "    print(customer_count, sum1)"
   ]
  }
 ],
 "metadata": {
  "kernelspec": {
   "display_name": "base",
   "language": "python",
   "name": "python3"
  },
  "language_info": {
   "codemirror_mode": {
    "name": "ipython",
    "version": 3
   },
   "file_extension": ".py",
   "mimetype": "text/x-python",
   "name": "python",
   "nbconvert_exporter": "python",
   "pygments_lexer": "ipython3",
   "version": "3.11.5"
  }
 },
 "nbformat": 4,
 "nbformat_minor": 2
}
